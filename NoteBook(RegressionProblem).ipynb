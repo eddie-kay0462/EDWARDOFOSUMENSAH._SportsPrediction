{
 "cells": [
  {
   "cell_type": "code",
   "execution_count": 1,
   "id": "5edc5c0a-d7ce-44b7-8a3e-f980394de489",
   "metadata": {},
   "outputs": [],
   "source": [
    "import pandas as pd"
   ]
  },
  {
   "cell_type": "code",
   "execution_count": 2,
   "id": "f8c97260-30d5-4f35-abf6-02afd8dd2948",
   "metadata": {},
   "outputs": [],
   "source": [
    "from sklearn.preprocessing import LabelEncoder\n",
    "from sklearn.impute import SimpleImputer\n",
    "\n",
    "def preprocess_data(file_path):\n",
    "    #Load the dataset\n",
    "    data = pd.read_csv(file_path)\n",
    "\n",
    "    #Drop the irrelevant columns \n",
    "    irrelevant_columns = ['player_url', 'long_name', 'dob', 'club_logo_url', 'nation_logo_url']\n",
    "    data = data.drop(columns=irrelevant_columns, errors='ignore')\n",
    "\n",
    "    ##Impute the missing values\n",
    "    imputer = SimpleImputer(strategy=\"median\")\n",
    "    ##Get the numerical columns from the data\n",
    "    numerical_cols=  data.select_dtypes(include=['float64', 'int64'])\n",
    "\n",
    "    scaled = imputer.fit_transform(numerical_cols)\n",
    "\n",
    "    ##Dataframe with transformed features\n",
    "    data_tr = pd.DataFrame(scaled, columns = numerical_cols.columns)\n",
    "\n",
    "    corr_matrix = data_tr.corr()\n",
    "    #Get the top features\n",
    "    top_features = corr_matrix[\"overall\"].sort_values(ascending=False).index[1:10]\n",
    "\n",
    "    #Get the categorical columns\n",
    "    legacy_df_cat= data.select_dtypes(include=['object'])\n",
    "\n",
    "    #use label encoder to handle the encoding\n",
    "    # Initialize the LabelEncoder\n",
    "    le = LabelEncoder()\n",
    "\n",
    "    # Apply Label Encoding to each categorical column\n",
    "    encoded_categorical = pd.DataFrame()\n",
    "    for col in legacy_df_cat.columns:\n",
    "        encoded_categorical[col] = le.fit_transform(data[col].astype(str))\n",
    "\n",
    "    # Combine encoded categorical features with numerical features\n",
    "    X = pd.concat([ data_tr, encoded_categorical], axis=1)\n",
    "    y =  data_tr['overall']\n",
    "\n",
    "    # Calculate correlation matrix\n",
    "    correlation_matrix = X.corr()\n",
    "    # Select top N features\n",
    "    N = 15\n",
    "    top_features = correlation_matrix['overall'].abs().sort_values(ascending=False)[1:N+1].index.tolist()\n",
    "    X = X[top_features]\n",
    "\n",
    "    return X, y\n",
    "    "
   ]
  },
  {
   "cell_type": "code",
   "execution_count": 3,
   "id": "ea08948e-b223-4d49-b2af-c0335a479cb6",
   "metadata": {},
   "outputs": [],
   "source": [
    "from sklearn.model_selection import train_test_split\n",
    "from sklearn.ensemble import RandomForestRegressor\n",
    "from sklearn.metrics import mean_squared_error, r2_score\n",
    "##This is a function that uses random forest regressor to train the model\n",
    "def randForestRegressor(X, y):\n",
    "    #Split the data\n",
    "    X_train, X_test, y_train, y_test = train_test_split(X, y, test_size=0.2, random_state=42)\n",
    "    model = RandomForestRegressor(n_estimators=10, random_state=42)\n",
    "    model.fit(X_train, y_train)\n",
    "    ##Predict the test set\n",
    "    y_pred = model.predict(X_test)\n",
    "    #Evaluating the model\n",
    "    mse = mean_squared_error(y_test, y_pred)\n",
    "    r2  = r2_score(y_test, y_pred)\n",
    "    return mse, r2"
   ]
  },
  {
   "cell_type": "code",
   "execution_count": 4,
   "id": "4e5208cd-5bd1-4817-a4ba-e28a11f2c2a7",
   "metadata": {},
   "outputs": [],
   "source": [
    "from sklearn.ensemble import GradientBoostingRegressor\n",
    "from sklearn.metrics import mean_squared_error, r2_score\n",
    "from sklearn.model_selection import train_test_split\n",
    "def gradientboostingRegressor(X, y):\n",
    "    #Split the data\n",
    "    X_train, X_test, y_train, y_test = train_test_split(X, y, test_size=0.2, random_state=42)\n",
    "    gbrt = GradientBoostingRegressor(max_depth=2, n_estimators=10)\n",
    "    gbrt.fit(X_train, y_train)\n",
    "    y_pred = gbrt.predict(X_test)\n",
    "    mse = mean_squared_error(y_test, y_pred)\n",
    "    r2  = r2_score(y_test, y_pred)\n",
    "    return mse, r2\n",
    "    "
   ]
  },
  {
   "cell_type": "code",
   "execution_count": 5,
   "id": "0a1471dd-534b-4164-9ff8-107993413496",
   "metadata": {},
   "outputs": [],
   "source": [
    "from sklearn.model_selection import train_test_split\n",
    "from sklearn.tree import DecisionTreeRegressor\n",
    "from sklearn.metrics import mean_squared_error, r2_score\n",
    "\n",
    "## This is a function that uses a decision tree regressor to train the model\n",
    "def decisionTreeRegressor(X, y):\n",
    "    # Split the data\n",
    "    X_train, X_test, y_train, y_test = train_test_split(X, y, test_size=0.2, random_state=42)\n",
    "    \n",
    "    # Initialize and train the Decision Tree Regressor\n",
    "    model = DecisionTreeRegressor(random_state=42)\n",
    "    model.fit(X_train, y_train)\n",
    "    \n",
    "    # Predict the test set\n",
    "    y_pred = model.predict(X_test)\n",
    "    \n",
    "    # Evaluating the model\n",
    "    mse = mean_squared_error(y_test, y_pred)\n",
    "    r2  = r2_score(y_test, y_pred)\n",
    "   \n",
    "    return mse, r2"
   ]
  },
  {
   "cell_type": "code",
   "execution_count": 6,
   "id": "ecdc2420-d407-48c8-b2b7-f6f4375261b1",
   "metadata": {},
   "outputs": [
    {
     "name": "stderr",
     "output_type": "stream",
     "text": [
      "C:\\Users\\Edward Ofosu Mensah\\AppData\\Local\\Temp\\ipykernel_19224\\3037257215.py:6: DtypeWarning: Columns (108) have mixed types. Specify dtype option on import or set low_memory=False.\n",
      "  data = pd.read_csv(file_path)\n"
     ]
    },
    {
     "name": "stdout",
     "output_type": "stream",
     "text": [
      "Mean squared error: 3.1467304266244462\n",
      "R^2 score: 0.9365111811372516\n"
     ]
    }
   ],
   "source": [
    "X, y = preprocess_data(\"C:\\\\Users\\\\Edward Ofosu Mensah\\\\Downloads\\\\male_players (legacy).csv\")\n",
    "mse, r2 =  randForestRegressor(X, y)\n",
    "print(f\"Mean squared error: {mse}\")\n",
    "print(f\"R^2 score: {r2}\")"
   ]
  },
  {
   "cell_type": "code",
   "execution_count": 7,
   "id": "fc91a9cd-7a35-4870-8fa7-fa87503cb966",
   "metadata": {},
   "outputs": [
    {
     "name": "stdout",
     "output_type": "stream",
     "text": [
      "Mean squared error: 17.058098759559172\n",
      "R^2 score: 0.6558337081799929\n"
     ]
    }
   ],
   "source": [
    "mse, r2 =  gradientboostingRegressor(X, y)\n",
    "print(f\"Mean squared error: {mse}\")\n",
    "print(f\"R^2 score: {r2}\")"
   ]
  },
  {
   "cell_type": "code",
   "execution_count": 8,
   "id": "f76ee027-916f-4ee7-8fb1-b94517ea66a7",
   "metadata": {},
   "outputs": [
    {
     "name": "stdout",
     "output_type": "stream",
     "text": [
      "Mean squared error: 5.835740047377885\n",
      "R^2 score: 0.8822573933682945\n"
     ]
    }
   ],
   "source": [
    "mse, r2 = decisionTreeRegressor(X, y)\n",
    "print(f\"Mean squared error: {mse}\")\n",
    "print(f\"R^2 score: {r2}\")"
   ]
  },
  {
   "cell_type": "code",
   "execution_count": 9,
   "id": "85dbf79c-2bc4-4754-8106-e56bedc9f8ba",
   "metadata": {},
   "outputs": [],
   "source": [
    "from sklearn.model_selection import GridSearchCV\n",
    "\n",
    "##Tune the randomForest\n",
    "def tune_random_forest(X, y):\n",
    "    X_train, X_test, y_train, y_test = train_test_split(X, y, test_size=0.2, random_state=42)\n",
    "    \n",
    "    param_grid = [\n",
    "        {'n_estimators': [10, 40],\n",
    "        'max_features': [4, 6]}\n",
    "    ]\n",
    "    rf = RandomForestRegressor()\n",
    "    grid_search = GridSearchCV(rf, param_grid, cv=5, scoring='neg_mean_squared_error')\n",
    "    grid_search.fit(X_train, y_train)\n",
    "    \n",
    "    best_rf = grid_search.best_estimator_\n",
    "    y_pred = best_rf.predict(X_test)\n",
    "    mse = mean_squared_error(y_test, y_pred)\n",
    "    r2 = r2_score(y_test, y_pred)\n",
    "    \n",
    "    print(\"Best Random Forest parameters:\", grid_search.best_params_)\n",
    "    return mse, r2"
   ]
  },
  {
   "cell_type": "code",
   "execution_count": 10,
   "id": "82e18a2a-c18a-4a4c-b851-25e4ffe7772d",
   "metadata": {},
   "outputs": [
    {
     "name": "stdout",
     "output_type": "stream",
     "text": [
      "Best Random Forest parameters: {'max_features': 4, 'n_estimators': 40}\n",
      "Mean squared error: 2.529910537302928\n",
      "R^2 score: 0.9489562148435813\n"
     ]
    }
   ],
   "source": [
    "mse, r2 =  tune_random_forest(X, y)\n",
    "print(f\"Mean squared error: {mse}\")\n",
    "print(f\"R^2 score: {r2}\")"
   ]
  },
  {
   "cell_type": "code",
   "execution_count": 11,
   "id": "b02f5228-32e1-4434-a38c-02acd5fc765f",
   "metadata": {},
   "outputs": [
    {
     "name": "stderr",
     "output_type": "stream",
     "text": [
      "C:\\Users\\Edward Ofosu Mensah\\AppData\\Local\\Temp\\ipykernel_19224\\3037257215.py:6: DtypeWarning: Columns (25,108) have mixed types. Specify dtype option on import or set low_memory=False.\n",
      "  data = pd.read_csv(file_path)\n"
     ]
    }
   ],
   "source": [
    "###Considering the fact tht the Random Forest Regressor is giving me the best result for the R2 score, I will stick with it and proceed to test the playerss 22 data it\n",
    "\n",
    "X, y = preprocess_data(\"C:\\\\Users\\\\Edward Ofosu Mensah\\\\Downloads\\\\players_22-1.csv\")\n"
   ]
  },
  {
   "cell_type": "code",
   "execution_count": 12,
   "id": "6752694d-3765-4242-8b4e-4ea4a4ebb516",
   "metadata": {},
   "outputs": [
    {
     "data": {
      "text/html": [
       "<div>\n",
       "<style scoped>\n",
       "    .dataframe tbody tr th:only-of-type {\n",
       "        vertical-align: middle;\n",
       "    }\n",
       "\n",
       "    .dataframe tbody tr th {\n",
       "        vertical-align: top;\n",
       "    }\n",
       "\n",
       "    .dataframe thead th {\n",
       "        text-align: right;\n",
       "    }\n",
       "</style>\n",
       "<table border=\"1\" class=\"dataframe\">\n",
       "  <thead>\n",
       "    <tr style=\"text-align: right;\">\n",
       "      <th></th>\n",
       "      <th>movement_reactions</th>\n",
       "      <th>mentality_composure</th>\n",
       "      <th>passing</th>\n",
       "      <th>cm</th>\n",
       "      <th>lcm</th>\n",
       "      <th>rcm</th>\n",
       "      <th>potential</th>\n",
       "      <th>rm</th>\n",
       "      <th>lm</th>\n",
       "      <th>ram</th>\n",
       "      <th>cam</th>\n",
       "      <th>lam</th>\n",
       "      <th>dribbling</th>\n",
       "      <th>lf</th>\n",
       "      <th>cf</th>\n",
       "    </tr>\n",
       "  </thead>\n",
       "  <tbody>\n",
       "    <tr>\n",
       "      <th>0</th>\n",
       "      <td>94.0</td>\n",
       "      <td>96.0</td>\n",
       "      <td>91.0</td>\n",
       "      <td>210</td>\n",
       "      <td>210</td>\n",
       "      <td>210</td>\n",
       "      <td>93.0</td>\n",
       "      <td>234</td>\n",
       "      <td>234</td>\n",
       "      <td>251</td>\n",
       "      <td>251</td>\n",
       "      <td>251</td>\n",
       "      <td>95.0</td>\n",
       "      <td>131</td>\n",
       "      <td>131</td>\n",
       "    </tr>\n",
       "    <tr>\n",
       "      <th>1</th>\n",
       "      <td>93.0</td>\n",
       "      <td>88.0</td>\n",
       "      <td>79.0</td>\n",
       "      <td>186</td>\n",
       "      <td>186</td>\n",
       "      <td>186</td>\n",
       "      <td>92.0</td>\n",
       "      <td>224</td>\n",
       "      <td>224</td>\n",
       "      <td>245</td>\n",
       "      <td>245</td>\n",
       "      <td>245</td>\n",
       "      <td>86.0</td>\n",
       "      <td>128</td>\n",
       "      <td>128</td>\n",
       "    </tr>\n",
       "    <tr>\n",
       "      <th>2</th>\n",
       "      <td>94.0</td>\n",
       "      <td>95.0</td>\n",
       "      <td>80.0</td>\n",
       "      <td>177</td>\n",
       "      <td>177</td>\n",
       "      <td>177</td>\n",
       "      <td>91.0</td>\n",
       "      <td>230</td>\n",
       "      <td>230</td>\n",
       "      <td>245</td>\n",
       "      <td>245</td>\n",
       "      <td>245</td>\n",
       "      <td>88.0</td>\n",
       "      <td>129</td>\n",
       "      <td>129</td>\n",
       "    </tr>\n",
       "    <tr>\n",
       "      <th>3</th>\n",
       "      <td>89.0</td>\n",
       "      <td>93.0</td>\n",
       "      <td>86.0</td>\n",
       "      <td>195</td>\n",
       "      <td>195</td>\n",
       "      <td>195</td>\n",
       "      <td>91.0</td>\n",
       "      <td>232</td>\n",
       "      <td>232</td>\n",
       "      <td>249</td>\n",
       "      <td>249</td>\n",
       "      <td>249</td>\n",
       "      <td>94.0</td>\n",
       "      <td>128</td>\n",
       "      <td>128</td>\n",
       "    </tr>\n",
       "    <tr>\n",
       "      <th>4</th>\n",
       "      <td>91.0</td>\n",
       "      <td>89.0</td>\n",
       "      <td>93.0</td>\n",
       "      <td>211</td>\n",
       "      <td>211</td>\n",
       "      <td>211</td>\n",
       "      <td>91.0</td>\n",
       "      <td>232</td>\n",
       "      <td>232</td>\n",
       "      <td>249</td>\n",
       "      <td>249</td>\n",
       "      <td>249</td>\n",
       "      <td>88.0</td>\n",
       "      <td>127</td>\n",
       "      <td>127</td>\n",
       "    </tr>\n",
       "    <tr>\n",
       "      <th>...</th>\n",
       "      <td>...</td>\n",
       "      <td>...</td>\n",
       "      <td>...</td>\n",
       "      <td>...</td>\n",
       "      <td>...</td>\n",
       "      <td>...</td>\n",
       "      <td>...</td>\n",
       "      <td>...</td>\n",
       "      <td>...</td>\n",
       "      <td>...</td>\n",
       "      <td>...</td>\n",
       "      <td>...</td>\n",
       "      <td>...</td>\n",
       "      <td>...</td>\n",
       "      <td>...</td>\n",
       "    </tr>\n",
       "    <tr>\n",
       "      <th>19234</th>\n",
       "      <td>53.0</td>\n",
       "      <td>37.0</td>\n",
       "      <td>46.0</td>\n",
       "      <td>48</td>\n",
       "      <td>48</td>\n",
       "      <td>48</td>\n",
       "      <td>52.0</td>\n",
       "      <td>46</td>\n",
       "      <td>46</td>\n",
       "      <td>47</td>\n",
       "      <td>47</td>\n",
       "      <td>47</td>\n",
       "      <td>48.0</td>\n",
       "      <td>30</td>\n",
       "      <td>30</td>\n",
       "    </tr>\n",
       "    <tr>\n",
       "      <th>19235</th>\n",
       "      <td>49.0</td>\n",
       "      <td>47.0</td>\n",
       "      <td>50.0</td>\n",
       "      <td>49</td>\n",
       "      <td>49</td>\n",
       "      <td>49</td>\n",
       "      <td>59.0</td>\n",
       "      <td>49</td>\n",
       "      <td>49</td>\n",
       "      <td>48</td>\n",
       "      <td>48</td>\n",
       "      <td>48</td>\n",
       "      <td>46.0</td>\n",
       "      <td>31</td>\n",
       "      <td>31</td>\n",
       "    </tr>\n",
       "    <tr>\n",
       "      <th>19236</th>\n",
       "      <td>46.0</td>\n",
       "      <td>36.0</td>\n",
       "      <td>45.0</td>\n",
       "      <td>49</td>\n",
       "      <td>49</td>\n",
       "      <td>49</td>\n",
       "      <td>55.0</td>\n",
       "      <td>47</td>\n",
       "      <td>47</td>\n",
       "      <td>48</td>\n",
       "      <td>48</td>\n",
       "      <td>48</td>\n",
       "      <td>49.0</td>\n",
       "      <td>31</td>\n",
       "      <td>31</td>\n",
       "    </tr>\n",
       "    <tr>\n",
       "      <th>19237</th>\n",
       "      <td>48.0</td>\n",
       "      <td>47.0</td>\n",
       "      <td>36.0</td>\n",
       "      <td>35</td>\n",
       "      <td>35</td>\n",
       "      <td>35</td>\n",
       "      <td>60.0</td>\n",
       "      <td>43</td>\n",
       "      <td>43</td>\n",
       "      <td>46</td>\n",
       "      <td>46</td>\n",
       "      <td>46</td>\n",
       "      <td>48.0</td>\n",
       "      <td>32</td>\n",
       "      <td>32</td>\n",
       "    </tr>\n",
       "    <tr>\n",
       "      <th>19238</th>\n",
       "      <td>54.0</td>\n",
       "      <td>36.0</td>\n",
       "      <td>45.0</td>\n",
       "      <td>48</td>\n",
       "      <td>48</td>\n",
       "      <td>48</td>\n",
       "      <td>60.0</td>\n",
       "      <td>47</td>\n",
       "      <td>47</td>\n",
       "      <td>48</td>\n",
       "      <td>48</td>\n",
       "      <td>48</td>\n",
       "      <td>48.0</td>\n",
       "      <td>32</td>\n",
       "      <td>32</td>\n",
       "    </tr>\n",
       "  </tbody>\n",
       "</table>\n",
       "<p>19239 rows × 15 columns</p>\n",
       "</div>"
      ],
      "text/plain": [
       "       movement_reactions  mentality_composure  passing   cm  lcm  rcm  \\\n",
       "0                    94.0                 96.0     91.0  210  210  210   \n",
       "1                    93.0                 88.0     79.0  186  186  186   \n",
       "2                    94.0                 95.0     80.0  177  177  177   \n",
       "3                    89.0                 93.0     86.0  195  195  195   \n",
       "4                    91.0                 89.0     93.0  211  211  211   \n",
       "...                   ...                  ...      ...  ...  ...  ...   \n",
       "19234                53.0                 37.0     46.0   48   48   48   \n",
       "19235                49.0                 47.0     50.0   49   49   49   \n",
       "19236                46.0                 36.0     45.0   49   49   49   \n",
       "19237                48.0                 47.0     36.0   35   35   35   \n",
       "19238                54.0                 36.0     45.0   48   48   48   \n",
       "\n",
       "       potential   rm   lm  ram  cam  lam  dribbling   lf   cf  \n",
       "0           93.0  234  234  251  251  251       95.0  131  131  \n",
       "1           92.0  224  224  245  245  245       86.0  128  128  \n",
       "2           91.0  230  230  245  245  245       88.0  129  129  \n",
       "3           91.0  232  232  249  249  249       94.0  128  128  \n",
       "4           91.0  232  232  249  249  249       88.0  127  127  \n",
       "...          ...  ...  ...  ...  ...  ...        ...  ...  ...  \n",
       "19234       52.0   46   46   47   47   47       48.0   30   30  \n",
       "19235       59.0   49   49   48   48   48       46.0   31   31  \n",
       "19236       55.0   47   47   48   48   48       49.0   31   31  \n",
       "19237       60.0   43   43   46   46   46       48.0   32   32  \n",
       "19238       60.0   47   47   48   48   48       48.0   32   32  \n",
       "\n",
       "[19239 rows x 15 columns]"
      ]
     },
     "execution_count": 12,
     "metadata": {},
     "output_type": "execute_result"
    }
   ],
   "source": [
    "X"
   ]
  },
  {
   "cell_type": "code",
   "execution_count": 13,
   "id": "db1fa404-4d8a-4b69-8671-1cea9471bd48",
   "metadata": {},
   "outputs": [
    {
     "data": {
      "text/plain": [
       "0        93.0\n",
       "1        92.0\n",
       "2        91.0\n",
       "3        91.0\n",
       "4        91.0\n",
       "         ... \n",
       "19234    47.0\n",
       "19235    47.0\n",
       "19236    47.0\n",
       "19237    47.0\n",
       "19238    47.0\n",
       "Name: overall, Length: 19239, dtype: float64"
      ]
     },
     "execution_count": 13,
     "metadata": {},
     "output_type": "execute_result"
    }
   ],
   "source": [
    "y"
   ]
  },
  {
   "cell_type": "code",
   "execution_count": 19,
   "id": "99fd28a0-d78b-47d5-b56e-326cfe4e6710",
   "metadata": {},
   "outputs": [],
   "source": [
    "##Use the random forest regressor to test it\n",
    "best_model= RandomForestRegressor()"
   ]
  },
  {
   "cell_type": "code",
   "execution_count": 20,
   "id": "48069df2-0f99-4cee-b443-424c6450c0c3",
   "metadata": {},
   "outputs": [
    {
     "data": {
      "text/html": [
       "<style>#sk-container-id-2 {color: black;background-color: white;}#sk-container-id-2 pre{padding: 0;}#sk-container-id-2 div.sk-toggleable {background-color: white;}#sk-container-id-2 label.sk-toggleable__label {cursor: pointer;display: block;width: 100%;margin-bottom: 0;padding: 0.3em;box-sizing: border-box;text-align: center;}#sk-container-id-2 label.sk-toggleable__label-arrow:before {content: \"▸\";float: left;margin-right: 0.25em;color: #696969;}#sk-container-id-2 label.sk-toggleable__label-arrow:hover:before {color: black;}#sk-container-id-2 div.sk-estimator:hover label.sk-toggleable__label-arrow:before {color: black;}#sk-container-id-2 div.sk-toggleable__content {max-height: 0;max-width: 0;overflow: hidden;text-align: left;background-color: #f0f8ff;}#sk-container-id-2 div.sk-toggleable__content pre {margin: 0.2em;color: black;border-radius: 0.25em;background-color: #f0f8ff;}#sk-container-id-2 input.sk-toggleable__control:checked~div.sk-toggleable__content {max-height: 200px;max-width: 100%;overflow: auto;}#sk-container-id-2 input.sk-toggleable__control:checked~label.sk-toggleable__label-arrow:before {content: \"▾\";}#sk-container-id-2 div.sk-estimator input.sk-toggleable__control:checked~label.sk-toggleable__label {background-color: #d4ebff;}#sk-container-id-2 div.sk-label input.sk-toggleable__control:checked~label.sk-toggleable__label {background-color: #d4ebff;}#sk-container-id-2 input.sk-hidden--visually {border: 0;clip: rect(1px 1px 1px 1px);clip: rect(1px, 1px, 1px, 1px);height: 1px;margin: -1px;overflow: hidden;padding: 0;position: absolute;width: 1px;}#sk-container-id-2 div.sk-estimator {font-family: monospace;background-color: #f0f8ff;border: 1px dotted black;border-radius: 0.25em;box-sizing: border-box;margin-bottom: 0.5em;}#sk-container-id-2 div.sk-estimator:hover {background-color: #d4ebff;}#sk-container-id-2 div.sk-parallel-item::after {content: \"\";width: 100%;border-bottom: 1px solid gray;flex-grow: 1;}#sk-container-id-2 div.sk-label:hover label.sk-toggleable__label {background-color: #d4ebff;}#sk-container-id-2 div.sk-serial::before {content: \"\";position: absolute;border-left: 1px solid gray;box-sizing: border-box;top: 0;bottom: 0;left: 50%;z-index: 0;}#sk-container-id-2 div.sk-serial {display: flex;flex-direction: column;align-items: center;background-color: white;padding-right: 0.2em;padding-left: 0.2em;position: relative;}#sk-container-id-2 div.sk-item {position: relative;z-index: 1;}#sk-container-id-2 div.sk-parallel {display: flex;align-items: stretch;justify-content: center;background-color: white;position: relative;}#sk-container-id-2 div.sk-item::before, #sk-container-id-2 div.sk-parallel-item::before {content: \"\";position: absolute;border-left: 1px solid gray;box-sizing: border-box;top: 0;bottom: 0;left: 50%;z-index: -1;}#sk-container-id-2 div.sk-parallel-item {display: flex;flex-direction: column;z-index: 1;position: relative;background-color: white;}#sk-container-id-2 div.sk-parallel-item:first-child::after {align-self: flex-end;width: 50%;}#sk-container-id-2 div.sk-parallel-item:last-child::after {align-self: flex-start;width: 50%;}#sk-container-id-2 div.sk-parallel-item:only-child::after {width: 0;}#sk-container-id-2 div.sk-dashed-wrapped {border: 1px dashed gray;margin: 0 0.4em 0.5em 0.4em;box-sizing: border-box;padding-bottom: 0.4em;background-color: white;}#sk-container-id-2 div.sk-label label {font-family: monospace;font-weight: bold;display: inline-block;line-height: 1.2em;}#sk-container-id-2 div.sk-label-container {text-align: center;}#sk-container-id-2 div.sk-container {/* jupyter's `normalize.less` sets `[hidden] { display: none; }` but bootstrap.min.css set `[hidden] { display: none !important; }` so we also need the `!important` here to be able to override the default hidden behavior on the sphinx rendered scikit-learn.org. See: https://github.com/scikit-learn/scikit-learn/issues/21755 */display: inline-block !important;position: relative;}#sk-container-id-2 div.sk-text-repr-fallback {display: none;}</style><div id=\"sk-container-id-2\" class=\"sk-top-container\"><div class=\"sk-text-repr-fallback\"><pre>RandomForestRegressor()</pre><b>In a Jupyter environment, please rerun this cell to show the HTML representation or trust the notebook. <br />On GitHub, the HTML representation is unable to render, please try loading this page with nbviewer.org.</b></div><div class=\"sk-container\" hidden><div class=\"sk-item\"><div class=\"sk-estimator sk-toggleable\"><input class=\"sk-toggleable__control sk-hidden--visually\" id=\"sk-estimator-id-2\" type=\"checkbox\" checked><label for=\"sk-estimator-id-2\" class=\"sk-toggleable__label sk-toggleable__label-arrow\">RandomForestRegressor</label><div class=\"sk-toggleable__content\"><pre>RandomForestRegressor()</pre></div></div></div></div></div>"
      ],
      "text/plain": [
       "RandomForestRegressor()"
      ]
     },
     "execution_count": 20,
     "metadata": {},
     "output_type": "execute_result"
    }
   ],
   "source": [
    "best_model.fit(X, y)"
   ]
  },
  {
   "cell_type": "code",
   "execution_count": 16,
   "id": "b1e8f0a3-4244-4529-87fe-d7d69f8a46ee",
   "metadata": {},
   "outputs": [],
   "source": [
    "mse, r2_score = randForestRegressor(X, y)"
   ]
  },
  {
   "cell_type": "code",
   "execution_count": 17,
   "id": "f7ebfe31-fcfb-49e6-8caa-2c07a54aac88",
   "metadata": {},
   "outputs": [
    {
     "name": "stdout",
     "output_type": "stream",
     "text": [
      "MSE 4.104714137214137, RS_SCORE 0.912288923851465\n"
     ]
    }
   ],
   "source": [
    "print(f\"MSE {mse}, RS_SCORE {r2_score}\")"
   ]
  },
  {
   "cell_type": "code",
   "execution_count": 18,
   "id": "aaa9d7d3-33e6-431f-95e3-b4344450dc9f",
   "metadata": {},
   "outputs": [],
   "source": [
    "##create a pickle file using serialisation\n",
    "import pickle\n",
    "pickle_out = open(\"regression.pkl\", \"wb\")\n",
    "pickle.dump(best_model, pickle_out)\n",
    "pickle_out.close()"
   ]
  },
  {
   "cell_type": "code",
   "execution_count": null,
   "id": "10ccab8f-bc60-4fef-9110-8e0462f7b478",
   "metadata": {},
   "outputs": [],
   "source": []
  }
 ],
 "metadata": {
  "kernelspec": {
   "display_name": "Python 3 (ipykernel)",
   "language": "python",
   "name": "python3"
  },
  "language_info": {
   "codemirror_mode": {
    "name": "ipython",
    "version": 3
   },
   "file_extension": ".py",
   "mimetype": "text/x-python",
   "name": "python",
   "nbconvert_exporter": "python",
   "pygments_lexer": "ipython3",
   "version": "3.11.7"
  }
 },
 "nbformat": 4,
 "nbformat_minor": 5
}
